{
 "cells": [
  {
   "cell_type": "markdown",
   "metadata": {},
   "source": [
    "# Model Fitting\n",
    "\n",
    "In this notebook, we will try to fit a model to the data based on our findings in the first notebook.\n",
    "\n",
    "We will make use of sklearn pipelines as well as custom transformers. To make this notebook shorter and easier to read, we put the code for the custom transformers as well as some functions to evaluate the models in a separate directory 'util/'.\n",
    "\n",
    "Outline:\n",
    "\n",
    "* [1 Baseline Models Without Feature Engineering](#baseline)\n",
    "* [2 Models with Feature Engineering and Further Preprocessing](#feature_engineering_preprocessing)\n",
    "    - [2.1 Comments](#comments)\n",
    "* [3 Grid Search for Preprocessing Parameters](#gridsearch_preprocessing)\n",
    "* [4 Grid Search for Model Parameters](#gridsearch_parameters)\n",
    "* [5 Evaluate Best Model](#evaluate)\n",
    "\n",
    "\n",
    "First, let's do the necessary imports:"
   ]
  },
  {
   "cell_type": "code",
   "execution_count": 1,
   "metadata": {},
   "outputs": [],
   "source": [
    "import math\n",
    "import pandas as pd\n",
    "import numpy as np\n",
    "\n",
    "# Plotting\n",
    "import seaborn as sns\n",
    "from matplotlib import pyplot as plt\n",
    "\n",
    "# Models\n",
    "from sklearn import linear_model\n",
    "from sklearn.ensemble import RandomForestRegressor, GradientBoostingRegressor\n",
    "from sklearn.compose import TransformedTargetRegressor\n",
    "\n",
    "# Metrics\n",
    "from sklearn.metrics import mean_absolute_error, mean_squared_error\n",
    "\n",
    "# Model selection\n",
    "from sklearn.model_selection import train_test_split, cross_val_score, GridSearchCV\n",
    "from sklearn.pipeline import Pipeline, FeatureUnion\n",
    "from sklearn.preprocessing import StandardScaler, OneHotEncoder\n",
    "\n",
    "# Own stuff\n",
    "from util.ML_eval import evaluate_on_training_set, evaluate_on_test_set\n",
    "from util.custom_transformers import *"
   ]
  },
  {
   "cell_type": "code",
   "execution_count": 2,
   "metadata": {},
   "outputs": [],
   "source": [
    "# define the standard plot size\n",
    "plt.rcParams[\"figure.figsize\"] = [10, 5]\n",
    "\n",
    "# suppress warning\n",
    "pd.options.mode.chained_assignment = None"
   ]
  },
  {
   "cell_type": "markdown",
   "metadata": {},
   "source": [
    "Read the data and do a quick check:"
   ]
  },
  {
   "cell_type": "code",
   "execution_count": 3,
   "metadata": {},
   "outputs": [
    {
     "name": "stdout",
     "output_type": "stream",
     "text": [
      "<class 'pandas.core.frame.DataFrame'>\n",
      "RangeIndex: 17379 entries, 0 to 17378\n",
      "Data columns (total 17 columns):\n",
      " #   Column      Non-Null Count  Dtype  \n",
      "---  ------      --------------  -----  \n",
      " 0   instant     17379 non-null  int64  \n",
      " 1   dteday      17379 non-null  object \n",
      " 2   season      17379 non-null  int64  \n",
      " 3   yr          17379 non-null  int64  \n",
      " 4   mnth        17379 non-null  int64  \n",
      " 5   hr          17379 non-null  int64  \n",
      " 6   holiday     17379 non-null  int64  \n",
      " 7   weekday     17379 non-null  int64  \n",
      " 8   workingday  17379 non-null  int64  \n",
      " 9   weathersit  17379 non-null  int64  \n",
      " 10  temp        17379 non-null  float64\n",
      " 11  atemp       17379 non-null  float64\n",
      " 12  hum         17379 non-null  float64\n",
      " 13  windspeed   17379 non-null  float64\n",
      " 14  casual      17379 non-null  int64  \n",
      " 15  registered  17379 non-null  int64  \n",
      " 16  cnt         17379 non-null  int64  \n",
      "dtypes: float64(4), int64(12), object(1)\n",
      "memory usage: 2.3+ MB\n"
     ]
    }
   ],
   "source": [
    "input_file = 'data/hour.csv'\n",
    "bike = pd.read_csv(input_file)\n",
    "bike.info()"
   ]
  },
  {
   "cell_type": "code",
   "execution_count": 4,
   "metadata": {},
   "outputs": [
    {
     "data": {
      "text/html": [
       "<div>\n",
       "<style scoped>\n",
       "    .dataframe tbody tr th:only-of-type {\n",
       "        vertical-align: middle;\n",
       "    }\n",
       "\n",
       "    .dataframe tbody tr th {\n",
       "        vertical-align: top;\n",
       "    }\n",
       "\n",
       "    .dataframe thead th {\n",
       "        text-align: right;\n",
       "    }\n",
       "</style>\n",
       "<table border=\"1\" class=\"dataframe\">\n",
       "  <thead>\n",
       "    <tr style=\"text-align: right;\">\n",
       "      <th></th>\n",
       "      <th>instant</th>\n",
       "      <th>dteday</th>\n",
       "      <th>season</th>\n",
       "      <th>yr</th>\n",
       "      <th>mnth</th>\n",
       "      <th>hr</th>\n",
       "      <th>holiday</th>\n",
       "      <th>weekday</th>\n",
       "      <th>workingday</th>\n",
       "      <th>weathersit</th>\n",
       "      <th>temp</th>\n",
       "      <th>atemp</th>\n",
       "      <th>hum</th>\n",
       "      <th>windspeed</th>\n",
       "      <th>casual</th>\n",
       "      <th>registered</th>\n",
       "      <th>cnt</th>\n",
       "    </tr>\n",
       "  </thead>\n",
       "  <tbody>\n",
       "    <tr>\n",
       "      <th>0</th>\n",
       "      <td>1</td>\n",
       "      <td>2011-01-01</td>\n",
       "      <td>1</td>\n",
       "      <td>0</td>\n",
       "      <td>1</td>\n",
       "      <td>0</td>\n",
       "      <td>0</td>\n",
       "      <td>6</td>\n",
       "      <td>0</td>\n",
       "      <td>1</td>\n",
       "      <td>0.24</td>\n",
       "      <td>0.29</td>\n",
       "      <td>0.81</td>\n",
       "      <td>0.0</td>\n",
       "      <td>3</td>\n",
       "      <td>13</td>\n",
       "      <td>16</td>\n",
       "    </tr>\n",
       "    <tr>\n",
       "      <th>1</th>\n",
       "      <td>2</td>\n",
       "      <td>2011-01-01</td>\n",
       "      <td>1</td>\n",
       "      <td>0</td>\n",
       "      <td>1</td>\n",
       "      <td>1</td>\n",
       "      <td>0</td>\n",
       "      <td>6</td>\n",
       "      <td>0</td>\n",
       "      <td>1</td>\n",
       "      <td>0.22</td>\n",
       "      <td>0.27</td>\n",
       "      <td>0.80</td>\n",
       "      <td>0.0</td>\n",
       "      <td>8</td>\n",
       "      <td>32</td>\n",
       "      <td>40</td>\n",
       "    </tr>\n",
       "    <tr>\n",
       "      <th>2</th>\n",
       "      <td>3</td>\n",
       "      <td>2011-01-01</td>\n",
       "      <td>1</td>\n",
       "      <td>0</td>\n",
       "      <td>1</td>\n",
       "      <td>2</td>\n",
       "      <td>0</td>\n",
       "      <td>6</td>\n",
       "      <td>0</td>\n",
       "      <td>1</td>\n",
       "      <td>0.22</td>\n",
       "      <td>0.27</td>\n",
       "      <td>0.80</td>\n",
       "      <td>0.0</td>\n",
       "      <td>5</td>\n",
       "      <td>27</td>\n",
       "      <td>32</td>\n",
       "    </tr>\n",
       "    <tr>\n",
       "      <th>3</th>\n",
       "      <td>4</td>\n",
       "      <td>2011-01-01</td>\n",
       "      <td>1</td>\n",
       "      <td>0</td>\n",
       "      <td>1</td>\n",
       "      <td>3</td>\n",
       "      <td>0</td>\n",
       "      <td>6</td>\n",
       "      <td>0</td>\n",
       "      <td>1</td>\n",
       "      <td>0.24</td>\n",
       "      <td>0.29</td>\n",
       "      <td>0.75</td>\n",
       "      <td>0.0</td>\n",
       "      <td>3</td>\n",
       "      <td>10</td>\n",
       "      <td>13</td>\n",
       "    </tr>\n",
       "    <tr>\n",
       "      <th>4</th>\n",
       "      <td>5</td>\n",
       "      <td>2011-01-01</td>\n",
       "      <td>1</td>\n",
       "      <td>0</td>\n",
       "      <td>1</td>\n",
       "      <td>4</td>\n",
       "      <td>0</td>\n",
       "      <td>6</td>\n",
       "      <td>0</td>\n",
       "      <td>1</td>\n",
       "      <td>0.24</td>\n",
       "      <td>0.29</td>\n",
       "      <td>0.75</td>\n",
       "      <td>0.0</td>\n",
       "      <td>0</td>\n",
       "      <td>1</td>\n",
       "      <td>1</td>\n",
       "    </tr>\n",
       "  </tbody>\n",
       "</table>\n",
       "</div>"
      ],
      "text/plain": [
       "   instant      dteday  season  yr  mnth  hr  holiday  weekday  workingday  \\\n",
       "0        1  2011-01-01       1   0     1   0        0        6           0   \n",
       "1        2  2011-01-01       1   0     1   1        0        6           0   \n",
       "2        3  2011-01-01       1   0     1   2        0        6           0   \n",
       "3        4  2011-01-01       1   0     1   3        0        6           0   \n",
       "4        5  2011-01-01       1   0     1   4        0        6           0   \n",
       "\n",
       "   weathersit  temp  atemp   hum  windspeed  casual  registered  cnt  \n",
       "0           1  0.24   0.29  0.81        0.0       3          13   16  \n",
       "1           1  0.22   0.27  0.80        0.0       8          32   40  \n",
       "2           1  0.22   0.27  0.80        0.0       5          27   32  \n",
       "3           1  0.24   0.29  0.75        0.0       3          10   13  \n",
       "4           1  0.24   0.29  0.75        0.0       0           1    1  "
      ]
     },
     "execution_count": 4,
     "metadata": {},
     "output_type": "execute_result"
    }
   ],
   "source": [
    "bike.round(2).head()"
   ]
  },
  {
   "cell_type": "markdown",
   "metadata": {},
   "source": [
    "<a id = 'baseline'></a>\n",
    "## 1 Baseline Models Without Feature Engineering\n",
    "\n",
    "Here, we will run some plain models and perform minimum necessary or obvious preprocessing on our data, such that we can apply the models and get a baseline performance. These steps are:\n",
    "\n",
    "1. Convert some columns to categorical.\n",
    "2. Drop columns that are obviously not usable (here: 'instant', 'dteday' and 'atemp').\n",
    "3. Perform one-hot encoding of the categorical features.\n",
    "\n",
    "We will not do any additional feature engineering, scaling etc.\n",
    "First, we split the data:"
   ]
  },
  {
   "cell_type": "code",
   "execution_count": 5,
   "metadata": {},
   "outputs": [],
   "source": [
    "# Set random seed to make results reproducible and set test size to 10 %.\n",
    "RANDOM_SEED = 23\n",
    "TEST_RATIO = 0.1\n",
    "\n",
    "# Features\n",
    "X = bike.drop([\"cnt\", \"casual\", \"registered\"], axis = 1)\n",
    "# Target\n",
    "y = bike[\"cnt\"]\n",
    "\n",
    "# Split into training and test set\n",
    "X_train, X_test, y_train, y_test = train_test_split(X, y, test_size = TEST_RATIO, random_state = RANDOM_SEED)"
   ]
  },
  {
   "cell_type": "markdown",
   "metadata": {},
   "source": [
    "In our first pipeline, we make use of three custom transformers:\n",
    "\n",
    "* TypeSelector: selects certain data types.\n",
    "* DropColumnsTransformer: drops columns that are not needed\n",
    "* DTypeTransformer: converts certain columns to categorical data type\n",
    "    \n",
    "Our minimal pipeline looks as follows:"
   ]
  },
  {
   "cell_type": "code",
   "execution_count": 6,
   "metadata": {},
   "outputs": [],
   "source": [
    "# get categorical data and perform OHE\n",
    "categorical_pipeline = Pipeline([\n",
    "    ('get_categorical', TypeSelector(['object', 'category', 'bool'])),\n",
    "    ('OHE', OneHotEncoder(drop = 'first'))\n",
    "])\n",
    "\n",
    "# pass through all other columns unprocessed (otherwise they would be dropped)\n",
    "rest_pipeline = Pipeline([\n",
    "    ('get_rest', TypeSelector(exclude = ['object', 'category', 'bool']))\n",
    "])\n",
    "\n",
    "# put together the above pipelines\n",
    "preprocessing_vanilla = Pipeline([\n",
    "    # drop obviously useless\n",
    "    ('drop_useless', DropColumnsTransformer([\"instant\", \"dteday\", \"atemp\"])),\n",
    "    \n",
    "    # convert to categorical\n",
    "    ('to_categorical', DTypeTransformer([\"season\", \"yr\", \"mnth\", \"hr\", \"holiday\", \"workingday\", \"weekday\", \"weathersit\"])),\n",
    "    \n",
    "    # apply the two above pipelines in parallel\n",
    "    ('union', FeatureUnion([\n",
    "        ('categorical_pipeline', categorical_pipeline),\n",
    "        ('rest_pipeline', rest_pipeline)\n",
    "    ]))\n",
    "    \n",
    "])"
   ]
  },
  {
   "cell_type": "markdown",
   "metadata": {},
   "source": [
    "A final pipeline contains a model as the last step. We use this function to conveniently put together such a pipeline:"
   ]
  },
  {
   "cell_type": "code",
   "execution_count": 7,
   "metadata": {},
   "outputs": [],
   "source": [
    "def build_model(preprocessing, algo):\n",
    "    model = Pipeline([\n",
    "        ('preprocessing', preprocessing),\n",
    "        ('model', algo)\n",
    "    ])\n",
    "    \n",
    "    return model"
   ]
  },
  {
   "cell_type": "markdown",
   "metadata": {},
   "source": [
    "Now we check three different algorithms:\n",
    "\n",
    "1. Simple Linear Regression\n",
    "2. Random Forest\n",
    "3. Gradient Boosting\n",
    "\n",
    "Remembering from before that a transformation of the dependent variable could be helpful (because of skewness),\n",
    "we additionally run each model with a log-transformation:"
   ]
  },
  {
   "cell_type": "code",
   "execution_count": 9,
   "metadata": {},
   "outputs": [
    {
     "name": "stdout",
     "output_type": "stream",
     "text": [
      "\n",
      " ---------- Model: LinearRegression ---------- \n",
      "\n",
      "Performance on training set:\n",
      "\n",
      "MAE (training): 69.83\n",
      "RMSE (training): 98.69\n",
      "MAE cross-validated (5 folds): 75.57\n",
      "\n",
      "With log-transform:\n",
      "\n",
      "MAE (training): 62.62\n",
      "RMSE (training): 97.34\n",
      "MAE cross-validated (5 folds): 62.86\n",
      "\n",
      " ---------- Model: RandomForestRegressor ---------- \n",
      "\n",
      "Performance on training set:\n",
      "\n",
      "MAE (training): 12.13\n",
      "RMSE (training): 19.44\n",
      "MAE cross-validated (5 folds): 34.11\n",
      "\n",
      "With log-transform:\n",
      "\n",
      "MAE (training): 13.51\n",
      "RMSE (training): 23.64\n",
      "MAE cross-validated (5 folds): 37.25\n",
      "\n",
      " ---------- Model: GradientBoostingRegressor ---------- \n",
      "\n",
      "Performance on training set:\n",
      "\n",
      "MAE (training): 57.04\n",
      "RMSE (training): 79.50\n",
      "MAE cross-validated (5 folds): 58.79\n",
      "\n",
      "With log-transform:\n",
      "\n",
      "MAE (training): 59.45\n",
      "RMSE (training): 94.01\n",
      "MAE cross-validated (5 folds): 60.23\n"
     ]
    }
   ],
   "source": [
    "# List of models\n",
    "algos = [\n",
    "    linear_model.LinearRegression(),\n",
    "    RandomForestRegressor(n_jobs = -1, random_state = RANDOM_SEED),\n",
    "    GradientBoostingRegressor(random_state = RANDOM_SEED)\n",
    "]\n",
    "\n",
    "# Evaluate each model with and without log-transformation\n",
    "for algo in algos:\n",
    "    \n",
    "    model = build_model(preprocessing_vanilla, algo)\n",
    "    \n",
    "    # Basic model\n",
    "    print(\"\\n\", \"-\" * 10, \"Model:\", algo.__class__.__name__, \"-\" * 10, \"\\n\")\n",
    "    print(\"Performance on training set:\\n\")    \n",
    "    evaluate_on_training_set(model, X_train, y_train)\n",
    "    \n",
    "    # Model with log-transformation\n",
    "    algo_log = TransformedTargetRegressor(regressor = algo, func = np.log1p, inverse_func = np.expm1)\n",
    "    model_log = build_model(preprocessing_vanilla, algo_log)\n",
    "    print(\"\\nWith log-transform:\\n\")\n",
    "    evaluate_on_training_set(model_log, X_train, y_train)"
   ]
  },
  {
   "cell_type": "markdown",
   "metadata": {},
   "source": [
    "Findings:\n",
    "\n",
    "* The linear regression model is the only one positively affected by the log-transformation. The other two perform slightly worse.\n",
    "* For linear regression and gradient boosting, the validation errors are very close to the training erros, which is a sign that we are not overfitting.\n",
    "* For random forest, the validation error is much higher than the training error, so it is probably overfitting. However, the validation error is still lower than for the other two models, so we will proceed using this algorithm."
   ]
  },
  {
   "cell_type": "code",
   "execution_count": 8,
   "metadata": {},
   "outputs": [],
   "source": [
    "rf = RandomForestRegressor(n_jobs = -1, random_state = RANDOM_SEED)\n",
    "model = build_model(preprocessing_vanilla, rf)"
   ]
  },
  {
   "cell_type": "code",
   "execution_count": 9,
   "metadata": {},
   "outputs": [
    {
     "name": "stdout",
     "output_type": "stream",
     "text": [
      "Performance on test set:\n",
      "\n",
      "MAE: 32.54\n",
      "RMSE: 54.48\n"
     ]
    },
    {
     "data": {
      "image/png": "[encoded data removed]",
      "text/plain": [
       "<Figure size 504x504 with 1 Axes>"
      ]
     },
     "metadata": {
      "needs_background": "light"
     },
     "output_type": "display_data"
    }
   ],
   "source": [
    "print(\"Performance on test set:\\n\")\n",
    "evaluate_on_test_set(model, X_train, y_train, X_test, y_test)"
   ]
  },
  {
   "cell_type": "markdown",
   "metadata": {},
   "source": [
    "This is not too bad, however, we are still significantly overfitting.\n",
    "Next, we try to improve the random forest's performance by doing some feature engineering and  more preprocessing before fitting the model."
   ]
  },
  {
   "cell_type": "markdown",
   "metadata": {},
   "source": [
    "<a id = 'feature_engineering_preprocessing'></a>\n",
    "## 2 Models with Feature Engineering and Further Preprocessing\n",
    "\n",
    "In a next step, we will try to improve the most promising model from above, i.e., the random forest, by performing more feature engineering and preprocessing on our data. We will still use default parameters for the random forest.\n",
    "\n",
    "First, we refine our preprocessing pipeline as follows:\n",
    "\n",
    "1. Bin hours.\n",
    "2. Bin years and months.\n",
    "3. Do scaling.\n",
    "\n",
    "The idea to bin hours and years/months is based on the findings in the exploratory data analysis (see first notebook).\n",
    "We will create three bins for the hours: high (peak hours), medium and low.\n",
    "Furthermore, we will bin years and months into quarters, to better capture the increasing trend over time. We also wrote a custom transformer to do the binning.\n",
    "\n",
    "In a first step, we will not drop the original columns (hour, year, month)."
   ]
  },
  {
   "cell_type": "code",
   "execution_count": 10,
   "metadata": {},
   "outputs": [],
   "source": [
    "# fetch numerical data and scale\n",
    "numerical_pipeline = Pipeline([\n",
    "    ('get_numerical', TypeSelector(np.number)),\n",
    "    ('scale', StandardScaler())\n",
    "])\n",
    "\n",
    "# fetch categorical data and do OHE\n",
    "categorical_pipeline = Pipeline([\n",
    "    ('get_categorical', TypeSelector(['object', 'category', 'bool'])),\n",
    "    ('OHE', OneHotEncoder(drop = 'first'))\n",
    "])\n",
    "\n",
    "# fetch the rest and pass it through\n",
    "rest_pipeline = Pipeline([\n",
    "    ('get_rest', TypeSelector(exclude = [np.number, 'object', 'category', 'bool']))\n",
    "])\n",
    "\n",
    "preprocessing = Pipeline([\n",
    "    \n",
    "    # binning of hours and year/month\n",
    "    ('binning', BinningTransformer()),\n",
    "    \n",
    "    # drop obviously useless\n",
    "    ('drop_useless', DropColumnsTransformer([\"instant\", \"dteday\", \"atemp\"])),\n",
    "    \n",
    "    # convert to categorical\n",
    "    ('to_categorical', DTypeTransformer([\"season\", \"yr\", \"mnth\", \"hr\", \"holiday\", \"workingday\", \"weekday\", \"weathersit\"])),\n",
    "    \n",
    "    # run the above pipelines in parallel\n",
    "    ('union', FeatureUnion([\n",
    "        ('numerical_pipeline', numerical_pipeline),\n",
    "        ('categorical_pipeline', categorical_pipeline),\n",
    "        ('rest_pipeline', rest_pipeline)\n",
    "    ]))\n",
    "    \n",
    "])"
   ]
  },
  {
   "cell_type": "markdown",
   "metadata": {},
   "source": [
    "Evaluate again and check if we could improve:"
   ]
  },
  {
   "cell_type": "code",
   "execution_count": 11,
   "metadata": {},
   "outputs": [],
   "source": [
    "rf = RandomForestRegressor(n_jobs = -1, random_state = RANDOM_SEED)\n",
    "model = build_model(preprocessing, rf)"
   ]
  },
  {
   "cell_type": "code",
   "execution_count": 12,
   "metadata": {},
   "outputs": [
    {
     "name": "stdout",
     "output_type": "stream",
     "text": [
      "Performance on training set:\n",
      "\n",
      "MAE (training): 9.60\n",
      "RMSE (training): 15.96\n",
      "MAE cross-validated (5 folds): 26.90\n"
     ]
    }
   ],
   "source": [
    "print(\"Performance on training set:\\n\")    \n",
    "evaluate_on_training_set(model, X_train, y_train)"
   ]
  },
  {
   "cell_type": "markdown",
   "metadata": {},
   "source": [
    "We improved quite a bit according to the CV score! Now let's check the performance on the actual test set again:"
   ]
  },
  {
   "cell_type": "code",
   "execution_count": 9,
   "metadata": {},
   "outputs": [
    {
     "name": "stdout",
     "output_type": "stream",
     "text": [
      "Performance on test set:\n",
      "\n",
      "MAE: 26.35\n",
      "RMSE: 45.72\n"
     ]
    },
    {
     "data": {
      "image/png": "[encoded data removed]",
      "text/plain": [
       "<Figure size 504x504 with 1 Axes>"
      ]
     },
     "metadata": {
      "needs_background": "light"
     },
     "output_type": "display_data"
    }
   ],
   "source": [
    "print(\"Performance on test set:\\n\")\n",
    "evaluate_on_test_set(model, X_train, y_train, X_test, y_test)"
   ]
  },
  {
   "cell_type": "markdown",
   "metadata": {},
   "source": [
    "Here we can also see quite a good improvement and we also see that the CV error estimated the performance on the test set correctly."
   ]
  },
  {
   "cell_type": "markdown",
   "metadata": {},
   "source": [
    "<a id = 'comments'></a>\n",
    "### 2.1 Comments"
   ]
  },
  {
   "cell_type": "markdown",
   "metadata": {},
   "source": [
    "* As we are predicting count data, it would be interesting to run a model like Poisson regression. However, this algorithm is not available within the sklearn framework, which we sticked to in this notebook for simplicity.\n",
    "* Another possible approach is time series analysis.\n",
    "* As we have seen that there is a difference between casual and registered users, one could try to estimate these two counts separately (i.e., building separate models) and then adding predictions up."
   ]
  },
  {
   "cell_type": "markdown",
   "metadata": {},
   "source": [
    "<a id = 'gridsearch_preprocessing'></a>\n",
    "## 3 Grid Search for Preprocessing Parameters\n",
    "\n",
    "A nice feature of sklearn pipelines is that you can perform a grid search not only for the model's hyperparameters but also any other parameter inside the pipeline. This way we can for example try to figure out whether it is a good idea to bin some variables or which ones we should drop."
   ]
  },
  {
   "cell_type": "code",
   "execution_count": null,
   "metadata": {},
   "outputs": [],
   "source": [
    "rf = RandomForestRegressor(n_jobs = -1, random_state = RANDOM_SEED)\n",
    "\n",
    "# We use the preprocessing pipeline from above\n",
    "model = build_model(preprocessing, rf)"
   ]
  },
  {
   "cell_type": "code",
   "execution_count": 10,
   "metadata": {},
   "outputs": [],
   "source": [
    "parameters_preprocessing = {\n",
    "    \n",
    "    # Tune parameters of our preprocessing transformers\n",
    "    'preprocessing__binning__bin_hours': [True, False],\n",
    "    'preprocessing__binning__bin_year_month': [True, False],\n",
    "    'preprocessing__drop_useless__drop_cols' : [\n",
    "        [\"instant\", \"dteday\", \"atemp\"],\n",
    "        [\"instant\", \"dteday\", \"atemp\", 'hr'],\n",
    "        [\"instant\", \"dteday\", \"atemp\", 'yr', 'mnth'],\n",
    "        [\"instant\", \"dteday\", \"atemp\", 'hr', 'yr', 'mnth']\n",
    "    ]\n",
    "}"
   ]
  },
  {
   "cell_type": "markdown",
   "metadata": {},
   "source": [
    "The following grid search might have a long run time!"
   ]
  },
  {
   "cell_type": "code",
   "execution_count": null,
   "metadata": {
    "scrolled": true
   },
   "outputs": [],
   "source": [
    "grid_preprocessing = GridSearchCV(model, param_grid = parameters_preprocessing, cv = 5, scoring = 'neg_mean_absolute_error')\n",
    "grid_preprocessing.fit(X_train, y_train)\n",
    "\n",
    "print(\"Best MAE: %.2f\" % -(grid_preprocessing.score(X_test, y_test)))\n",
    "print(\"Found for the following parameters:\")\n",
    "print(grid_preprocessing.best_params_)"
   ]
  },
  {
   "cell_type": "code",
   "execution_count": null,
   "metadata": {},
   "outputs": [],
   "source": [
    "print(grid_preprocessing.best_estimator_)"
   ]
  },
  {
   "cell_type": "markdown",
   "metadata": {},
   "source": [
    "In case the code above didn't run (to save time). These are the best settings:"
   ]
  },
  {
   "cell_type": "code",
   "execution_count": null,
   "metadata": {},
   "outputs": [],
   "source": [
    "# save the best preprocessing settings\n",
    "best_params_preprocessing = {\n",
    "    'preprocessing__binning__bin_hours': True,\n",
    "    'preprocessing__binning__bin_year_month': True,\n",
    "    'preprocessing__drop_useless__drop_cols': ['instant', 'dteday', 'atemp']\n",
    "}"
   ]
  },
  {
   "cell_type": "markdown",
   "metadata": {},
   "source": [
    "We see that our preprocessing pipeline already contained the best settings."
   ]
  },
  {
   "cell_type": "markdown",
   "metadata": {},
   "source": [
    "<a id = 'gridsearch_parameters'></a>\n",
    "## 4 Grid Search for Model Parameters\n",
    "\n",
    "We can tune the model's hyperparameters in the exact same way as we found the best preprocessing settings in the section above. As this has a long run time, we don't execute the code but just demonstrate how to do it.\n",
    "\n",
    "Again, we can use the preprocessing pipeline defined above."
   ]
  },
  {
   "cell_type": "code",
   "execution_count": 12,
   "metadata": {},
   "outputs": [],
   "source": [
    "preprocessing = Pipeline([\n",
    "    ('binning', BinningTransformer()),\n",
    "    ('drop_useless', DropColumnsTransformer([\"instant\", \"dteday\", \"atemp\"])),\n",
    "    ('to_categorical', DTypeTransformer([\"season\", \"yr\", \"mnth\", \"hr\", \"holiday\", \"workingday\", \"weekday\", \"weathersit\"])),\n",
    "    ('union', FeatureUnion([\n",
    "        ('numerical_pipeline', numerical_pipeline),\n",
    "        ('categorical_pipeline', categorical_pipeline),\n",
    "        ('rest_pipeline', rest_pipeline)\n",
    "    ]))\n",
    "])"
   ]
  },
  {
   "cell_type": "markdown",
   "metadata": {},
   "source": [
    "Next, let's define the parameter grid we want to search. Naturally, it is important to think about how to design the grid. Here, we just try a few different values for three of the hyperparameters in order to demonstrate the process."
   ]
  },
  {
   "cell_type": "code",
   "execution_count": 13,
   "metadata": {},
   "outputs": [],
   "source": [
    "# tune model parameters\n",
    "parameters_model = {\n",
    "    'model__max_depth' : [40, 80, 120],\n",
    "    'model__max_leaf_nodes' : [1000, 2000, 3000],\n",
    "    'model__min_samples_split' : [3, 5, 7]\n",
    "}"
   ]
  },
  {
   "cell_type": "markdown",
   "metadata": {},
   "source": [
    "As a grid search like this might lead to long run times, we perform it on only 20 % of the data. This might not give us the best results, but we mainly do it for demonstration purposes:"
   ]
  },
  {
   "cell_type": "code",
   "execution_count": 15,
   "metadata": {},
   "outputs": [],
   "source": [
    "data_small = bike.sample(n = math.floor(0.2 * bike.shape[0]), random_state = RANDOM_SEED) \n",
    "\n",
    "# Features\n",
    "X_small = data_small.drop([\"cnt\", \"casual\", \"registered\"], axis = 1)\n",
    "# Target\n",
    "y_small = data_small[\"cnt\"]\n",
    "\n",
    "# Split into training and test set\n",
    "X_train_small, X_test_small, y_train_small, y_test_small = train_test_split(\n",
    "    X_small, y_small, test_size = TEST_RATIO, random_state = RANDOM_SEED)"
   ]
  },
  {
   "cell_type": "markdown",
   "metadata": {},
   "source": [
    "Perform the actual grid search and check the best parameters:"
   ]
  },
  {
   "cell_type": "code",
   "execution_count": 16,
   "metadata": {
    "scrolled": true
   },
   "outputs": [
    {
     "name": "stdout",
     "output_type": "stream",
     "text": [
      "Best MAE: 35.53\n",
      "Found for the following parameters:\n",
      "{'model__max_depth': 40, 'model__max_leaf_nodes': 1000, 'model__min_samples_split': 3}\n"
     ]
    }
   ],
   "source": [
    "grid_model = GridSearchCV(model, param_grid = parameters_model, cv = 5, scoring = 'neg_mean_absolute_error')\n",
    "grid_model.fit(X_train_small, y_train_small)\n",
    "\n",
    "print(\"Best MAE: %.2f\" % -(grid_model.score(X_test_small, y_test_small)))\n",
    "print(\"Found for the following parameters:\")\n",
    "print(grid_model.best_params_)"
   ]
  },
  {
   "cell_type": "markdown",
   "metadata": {},
   "source": [
    "<a id = 'evaluate'></a>\n",
    "## 5 Evaluate Best Model\n",
    "\n",
    "Let's check our model's performance plugging in the parameters found above:"
   ]
  },
  {
   "cell_type": "code",
   "execution_count": 18,
   "metadata": {},
   "outputs": [],
   "source": [
    "rf = RandomForestRegressor(\n",
    "    max_depth = 40,\n",
    "    max_leaf_nodes = 1000,\n",
    "    min_samples_split = 3,\n",
    "    n_jobs = -1,\n",
    "    random_state = RANDOM_SEED)\n",
    "\n",
    "# We can still use the preprocessing pipeline from above (already contains the best parameters)\n",
    "model = build_model(preprocessing, rf)"
   ]
  },
  {
   "cell_type": "code",
   "execution_count": 19,
   "metadata": {},
   "outputs": [
    {
     "name": "stdout",
     "output_type": "stream",
     "text": [
      "Performance on test set:\n",
      "\n",
      "MAE: 27.69\n",
      "RMSE: 46.55\n"
     ]
    },
    {
     "data": {
      "image/png": "[encoded data removed]",
      "text/plain": [
       "<Figure size 504x504 with 1 Axes>"
      ]
     },
     "metadata": {
      "needs_background": "light"
     },
     "output_type": "display_data"
    }
   ],
   "source": [
    "print(\"Performance on test set:\\n\")\n",
    "evaluate_on_test_set(model, X_train, y_train, X_test, y_test)"
   ]
  },
  {
   "cell_type": "markdown",
   "metadata": {},
   "source": [
    "The resuls is actually slightly worse than the one in section 2. However, this is probably due to the fact that:\n",
    "\n",
    "1. We didn't really think deeply about the parameter grid.\n",
    "2. We ran it on a smaller subset of the data.\n",
    "    \n",
    "A proper grid search will have a long run time."
   ]
  }
 ],
 "metadata": {
  "kernelspec": {
   "display_name": ".venv_bike",
   "language": "python",
   "name": ".venv_bike"
  },
  "language_info": {
   "codemirror_mode": {
    "name": "ipython",
    "version": 3
   },
   "file_extension": ".py",
   "mimetype": "text/x-python",
   "name": "python",
   "nbconvert_exporter": "python",
   "pygments_lexer": "ipython3",
   "version": "3.9.0"
  }
 },
 "nbformat": 4,
 "nbformat_minor": 2
}
